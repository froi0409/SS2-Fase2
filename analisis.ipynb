{
 "cells": [
  {
   "cell_type": "markdown",
   "metadata": {},
   "source": [
    "# Proyecto - Seminario de Sistemas 2 - Fase 2\n",
    "# EDA Monovariable y Multivariable"
   ]
  },
  {
   "cell_type": "markdown",
   "metadata": {},
   "source": [
    "## Lectura de Datos (SQL Server -> Pandas Dataframe) + Importaciones"
   ]
  },
  {
   "cell_type": "code",
   "execution_count": null,
   "metadata": {},
   "outputs": [],
   "source": [
    "import pandas as pd\n",
    "import numpy as np\n",
    "import matplotlib.pyplot as plt\n",
    "import seaborn as sns\n",
    "from sqlalchemy import create_engine\n"
   ]
  },
  {
   "cell_type": "code",
   "execution_count": null,
   "metadata": {},
   "outputs": [],
   "source": [
    "# Configuración de conexión a SQL Server\n",
    "server = 'FROI-PC\\\\SQLEXPRESS'\n",
    "database = 'covid-data'\n",
    "trusted_connection = 'yes'\n",
    "\n",
    "# Especificar el controlador de pyodbc en la cadena de conexión\n",
    "conn_str = f'mssql+pyodbc://{server}/{database}?trusted_connection={trusted_connection}&driver=ODBC+Driver+17+for+SQL+Server'\n",
    "\n",
    "# Crear el motor de SQLAlchemy\n",
    "engine = create_engine(conn_str)\n",
    "\n",
    "# Consulta SQL para extraer datos\n",
    "sql_query_municipality = 'SELECT * FROM MUNICIPALITY'\n",
    "sql_query_department = 'SELECT * FROM DEPARTMENT'\n",
    "sql_query_municipality_deaths = 'SELECT * FROM MUNICIPALITY_DEATHS'\n",
    "sql_query_country_deaths = 'SELECT * FROM COUNTRY_DEATHS'\n",
    "sql_query_department_population = 'SELECT D.[code] AS DepartmentCode, D.[name] AS DepartmentName, SUM(M.[population]) AS TotalPopulation FROM [dbo].[DEPARTMENT] D JOIN [dbo].[MUNICIPALITY] M ON D.[code] = M.[department_code] GROUP BY D.[code], D.[name] ORDER BY CONVERT(INT, D.[code]);'\n",
    "\n",
    "# Ejecutar la consulta y cargar los resultados en DataFrames\n",
    "df_municipality = pd.read_sql(sql_query_municipality, engine)\n",
    "df_department = pd.read_sql(sql_query_department, engine)\n",
    "df_municipality_deaths = pd.read_sql(sql_query_municipality_deaths, engine)\n",
    "df_country_deaths = pd.read_sql(sql_query_country_deaths, engine)\n",
    "df_department_population = pd.read_sql(sql_query_department_population, engine)"
   ]
  },
  {
   "cell_type": "code",
   "execution_count": null,
   "metadata": {},
   "outputs": [],
   "source": [
    "df_municipality.head(4)\n",
    "df_municipality.tail(4)"
   ]
  },
  {
   "cell_type": "code",
   "execution_count": null,
   "metadata": {},
   "outputs": [],
   "source": [
    "df_department.head(4)\n",
    "df_department.tail(4)"
   ]
  },
  {
   "cell_type": "code",
   "execution_count": null,
   "metadata": {},
   "outputs": [],
   "source": [
    "df_municipality_deaths.head(4)\n",
    "df_municipality_deaths.tail(4)"
   ]
  },
  {
   "cell_type": "code",
   "execution_count": null,
   "metadata": {},
   "outputs": [],
   "source": [
    "df_country_deaths.head(4)\n",
    "df_country_deaths.tail(4)"
   ]
  },
  {
   "cell_type": "code",
   "execution_count": null,
   "metadata": {},
   "outputs": [],
   "source": [
    "df_country_deaths.dtypes"
   ]
  },
  {
   "cell_type": "markdown",
   "metadata": {},
   "source": [
    "## Transformaciones"
   ]
  },
  {
   "cell_type": "code",
   "execution_count": null,
   "metadata": {},
   "outputs": [],
   "source": [
    "# Se\n",
    "# Asegurar que la columna 'date' sea de tipo datetime64[ns]\n",
    "df_country_deaths['date'] = pd.to_datetime(df_country_deaths['date'])\n",
    "\n",
    "# Filtrar registros directamente en el mismo DataFrame\n",
    "df_country_deaths = df_country_deaths[df_country_deaths['date'] > '2020-03-15']"
   ]
  },
  {
   "cell_type": "markdown",
   "metadata": {},
   "source": [
    "## EDA Monovariable"
   ]
  },
  {
   "cell_type": "markdown",
   "metadata": {},
   "source": [
    "### Análisis de Nuevas Muertes"
   ]
  },
  {
   "cell_type": "code",
   "execution_count": null,
   "metadata": {},
   "outputs": [],
   "source": [
    "# Estadísticas Descriptivas\n",
    "describe = df_country_deaths['new_deaths'].describe()\n",
    "print(f\"Estadísticas descriptivas\\n{describe}\\n\")\n",
    "\n",
    "# Estadísticas de Conteo\n",
    "count = df_country_deaths['new_deaths'].count()\n",
    "print(f\"Estadísticas de Conteo\\n{count}\\n\")\n",
    "\n",
    "# Valores únicos\n",
    "unique = df_country_deaths['new_deaths'].unique()\n",
    "nunique = df_country_deaths['new_deaths'].nunique()\n",
    "print(f\"Valores Únicos\\n{unique}\")\n",
    "print(f\"Valores Únicos (cantidad): {nunique}\\n\")\n",
    "# Promedio\n",
    "mean = df_country_deaths['new_deaths'].mean()\n",
    "print(f\"Promedio\\n{mean}\\n\")\n",
    "\n",
    "# Cuartiles\n",
    "# Mediana (50%)\n",
    "median_new_deaths = df_country_deaths['new_deaths'].median()\n",
    "\n",
    "# Cuartiles (25%, 75%)\n",
    "q1_new_deaths = df_country_deaths['new_deaths'].quantile(0.25)\n",
    "q3_new_deaths = df_country_deaths['new_deaths'].quantile(0.75)\n",
    "\n",
    "print(\"\\nMediana para 'new_deaths':\", median_new_deaths)\n",
    "print(\"\\nCuartil 25% para 'new_deaths':\", q1_new_deaths)\n",
    "print(\"\\nCuartil 75% para 'new_deaths':\", q3_new_deaths)"
   ]
  },
  {
   "cell_type": "code",
   "execution_count": null,
   "metadata": {},
   "outputs": [],
   "source": [
    "# Filtra los valores mayores que cero\n",
    "filtered_data = df_country_deaths['new_deaths'][df_country_deaths['new_deaths'] > 0]\n",
    "\n",
    "# Crea el histograma con la transformación logarítmica\n",
    "sns.histplot(filtered_data, bins=20, kde=True, edgecolor='black', alpha=0.7)\n",
    "plt.xlabel('Logaritmo de la población')\n",
    "plt.ylabel('Frecuencia')\n",
    "plt.title('Histograma de nuevas muertes')\n",
    "plt.show()"
   ]
  },
  {
   "cell_type": "code",
   "execution_count": null,
   "metadata": {},
   "outputs": [],
   "source": [
    "plt.boxplot(df_country_deaths['new_deaths'])\n",
    "\n",
    "plt.title('Diagrama de Caja de new_deaths en df_country_deaths')\n",
    "plt.ylabel('Número de nuevas muertes')\n",
    "plt.show()"
   ]
  },
  {
   "cell_type": "markdown",
   "metadata": {},
   "source": [
    "### Análisis de Cantidad de Muertes Acumuladas"
   ]
  },
  {
   "cell_type": "code",
   "execution_count": null,
   "metadata": {},
   "outputs": [],
   "source": [
    "# Estadísticas Descriptivas\n",
    "describe = df_country_deaths['cumulative_deaths'].describe()\n",
    "print(f\"Estadísticas descriptivas\\n{describe}\\n\")\n",
    "\n",
    "# Estadísticas de Conteo\n",
    "count = df_country_deaths['cumulative_deaths'].count()\n",
    "print(f\"Estadísticas de Conteo\\n{count}\\n\")\n",
    "\n",
    "# Valores únicos\n",
    "unique = df_country_deaths['cumulative_deaths'].nunique()\n",
    "print(f\"Valores Únicos\\n{unique}\\n\")\n",
    "\n",
    "# Promedio\n",
    "mean = df_country_deaths['cumulative_deaths'].mean()\n",
    "print(f\"Promedio\\n{mean}\\n\")\n",
    "\n",
    "# Cuartiles\n",
    "# Mediana (50%)\n",
    "median_new_deaths = df_country_deaths['cumulative_deaths'].median()\n",
    "\n",
    "# Cuartiles (25%, 75%)\n",
    "q1_new_deaths = df_country_deaths['cumulative_deaths'].quantile(0.25)\n",
    "q3_new_deaths = df_country_deaths['cumulative_deaths'].quantile(0.75)\n",
    "\n",
    "print(\"\\nMediana para 'cumulative_deaths':\", median_new_deaths)\n",
    "print(\"\\nCuartil 25% para 'cumulative_deaths':\", q1_new_deaths)\n",
    "print(\"\\nCuartil 75% para 'cumulative_deaths':\", q3_new_deaths)"
   ]
  },
  {
   "cell_type": "code",
   "execution_count": null,
   "metadata": {},
   "outputs": [],
   "source": [
    "# Filtra los valores mayores que cero\n",
    "filtered_data = df_country_deaths['cumulative_deaths'][df_country_deaths['cumulative_deaths'] > 0]\n",
    "\n",
    "# Crea el histograma con la transformación logarítmica\n",
    "sns.histplot(filtered_data, bins=20, kde=True, edgecolor='black', alpha=0.7)\n",
    "plt.xlabel('Logaritmo de la población')\n",
    "plt.ylabel('Frecuencia')\n",
    "plt.title('Histograma de muertes acumuladas')\n",
    "plt.show()"
   ]
  },
  {
   "cell_type": "code",
   "execution_count": null,
   "metadata": {},
   "outputs": [],
   "source": [
    "plt.boxplot(df_country_deaths['cumulative_deaths'])\n",
    "\n",
    "plt.title('Diagrama de Caja de cumulative_deaths en df_country_deaths')\n",
    "plt.ylabel('Número de nuevas muertes')\n",
    "plt.show()"
   ]
  },
  {
   "cell_type": "markdown",
   "metadata": {},
   "source": [
    "### Análisis de Población en los Municipios"
   ]
  },
  {
   "cell_type": "code",
   "execution_count": null,
   "metadata": {},
   "outputs": [],
   "source": [
    "# Estadísticas Descriptivas\n",
    "describe = df_municipality['population'].describe()\n",
    "print(f\"Estadísticas descriptivas\\n{describe}\\n\")\n",
    "\n",
    "# Estadísticas de Conteo\n",
    "count = df_municipality['population'].count()\n",
    "print(f\"Estadísticas de Conteo\\n{count}\\n\")\n",
    "\n",
    "# Valores únicos\n",
    "unique = df_municipality['population'].nunique()\n",
    "print(f\"Valores Únicos\\n{unique}\\n\")\n",
    "\n",
    "# Promedio\n",
    "mean = df_municipality['population'].mean()\n",
    "print(f\"Promedio\\n{mean}\\n\")\n",
    "\n",
    "# Cuartiles\n",
    "# Mediana (50%)\n",
    "median_new_deaths = df_municipality['population'].median()\n",
    "\n",
    "# Cuartiles (25%, 75%)\n",
    "q1_new_deaths = df_municipality['population'].quantile(0.25)\n",
    "q3_new_deaths = df_municipality['population'].quantile(0.75)\n",
    "\n",
    "print(\"\\nMediana para 'cumulative_deaths':\", median_new_deaths)\n",
    "print(\"\\nCuartil 25% para 'cumulative_deaths':\", q1_new_deaths)\n",
    "print(\"\\nCuartil 75% para 'cumulative_deaths':\", q3_new_deaths)"
   ]
  },
  {
   "cell_type": "code",
   "execution_count": null,
   "metadata": {},
   "outputs": [],
   "source": [
    "filtered_data = df_municipality['population'][df_municipality['population'] > 0]\n",
    "\n",
    "# Crea el histograma con la transformación logarítmica\n",
    "sns.histplot(filtered_data, bins=20, kde=True, edgecolor='black', alpha=0.7)\n",
    "plt.xlabel('Logaritmo de la población')\n",
    "plt.ylabel('Frecuencia')\n",
    "plt.title('Histograma de población')\n",
    "plt.show()"
   ]
  },
  {
   "cell_type": "markdown",
   "metadata": {},
   "source": [
    "- El diagrama posee un sesgo, por lo cuál, se hará una transformación logarítmica"
   ]
  },
  {
   "cell_type": "code",
   "execution_count": null,
   "metadata": {},
   "outputs": [],
   "source": [
    "# Filtra los valores mayores que cero\n",
    "filtered_data = df_municipality['population'][df_municipality['population'] > 0]\n",
    "\n",
    "# Crea el histograma con la transformación logarítmica\n",
    "sns.histplot(np.log(filtered_data), bins=20, kde=True, edgecolor='black', alpha=0.7)\n",
    "plt.xlabel('Logaritmo de la población')\n",
    "plt.ylabel('Frecuencia')\n",
    "plt.title('Histograma de población')\n",
    "plt.show()"
   ]
  },
  {
   "cell_type": "code",
   "execution_count": null,
   "metadata": {},
   "outputs": [],
   "source": [
    "plt.boxplot(df_municipality['population'])\n",
    "\n",
    "plt.title('Diagrama de Caja de cumulative_deaths en df_country_deaths')\n",
    "plt.ylabel('Número de nuevas muertes')\n",
    "plt.show()"
   ]
  },
  {
   "cell_type": "markdown",
   "metadata": {},
   "source": [
    "### Diagramas de Barras para Variables cualitativas"
   ]
  },
  {
   "cell_type": "code",
   "execution_count": null,
   "metadata": {},
   "outputs": [],
   "source": []
  },
  {
   "cell_type": "markdown",
   "metadata": {},
   "source": [
    "## EDA Multivariable"
   ]
  },
  {
   "cell_type": "markdown",
   "metadata": {},
   "source": [
    "### Gráficas de Dispersión"
   ]
  },
  {
   "cell_type": "code",
   "execution_count": null,
   "metadata": {},
   "outputs": [],
   "source": [
    "plt.scatter(df_country_deaths['new_deaths'], df_country_deaths['date'])\n",
    "plt.xlabel('Nuevas Muertes')\n",
    "plt.ylabel('Fecha')\n",
    "plt.title('Dispersión: Nuevas Muertes vs. Fecha')\n",
    "plt.show()"
   ]
  },
  {
   "cell_type": "code",
   "execution_count": null,
   "metadata": {},
   "outputs": [],
   "source": [
    "plt.scatter(df_country_deaths['cumulative_deaths'], df_country_deaths['date'])\n",
    "plt.xlabel('Muertes Acumuladas')\n",
    "plt.ylabel('Fecha')\n",
    "plt.title('Dispersión: Muertes Acumuladas vs. Fecha')\n",
    "plt.show()"
   ]
  },
  {
   "cell_type": "code",
   "execution_count": null,
   "metadata": {},
   "outputs": [],
   "source": [
    "plt.figure(figsize=(15, 50))\n",
    "plt.scatter(df_municipality['population'], df_municipality['name'])\n",
    "plt.xlabel('Población')\n",
    "plt.ylabel('Municipio')\n",
    "plt.title('Dispersión: Municipio vs Población')\n",
    "plt.show()"
   ]
  },
  {
   "cell_type": "code",
   "execution_count": null,
   "metadata": {},
   "outputs": [],
   "source": [
    "plt.scatter(df_department_population['TotalPopulation'], df_department_population['DepartmentName'])\n",
    "plt.xlabel('Población')\n",
    "plt.ylabel('Departamento')\n",
    "plt.title('Dispersión: Departamento vs Población')\n",
    "plt.show()"
   ]
  },
  {
   "cell_type": "markdown",
   "metadata": {},
   "source": [
    "### Gráficas de Barras"
   ]
  },
  {
   "cell_type": "markdown",
   "metadata": {},
   "source": [
    "### Mapas de Calor"
   ]
  },
  {
   "cell_type": "code",
   "execution_count": null,
   "metadata": {},
   "outputs": [],
   "source": []
  }
 ],
 "metadata": {
  "kernelspec": {
   "display_name": "venv",
   "language": "python",
   "name": "python3"
  },
  "language_info": {
   "codemirror_mode": {
    "name": "ipython",
    "version": 3
   },
   "file_extension": ".py",
   "mimetype": "text/x-python",
   "name": "python",
   "nbconvert_exporter": "python",
   "pygments_lexer": "ipython3",
   "version": "3.12.1"
  }
 },
 "nbformat": 4,
 "nbformat_minor": 2
}
