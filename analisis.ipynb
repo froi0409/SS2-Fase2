{
 "cells": [
  {
   "cell_type": "markdown",
   "metadata": {},
   "source": [
    "# Proyecto - Seminario de Sistemas 2 - Fase 2\n",
    "## EDA Monovariable y Multivariable"
   ]
  }
 ],
 "metadata": {
  "language_info": {
   "name": "python"
  }
 },
 "nbformat": 4,
 "nbformat_minor": 2
}
