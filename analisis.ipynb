{
 "cells": [
  {
   "cell_type": "markdown",
   "metadata": {},
   "source": [
    "# Proyecto - Seminario de Sistemas 2 - Fase 2\n",
    "## EDA Monovariable y Multivariable"
   ]
  },
  {
   "cell_type": "markdown",
   "metadata": {},
   "source": [
    "### Lectura de Datos (SQL Server -> Pandas Dataframe) + Importaciones"
   ]
  },
  {
   "cell_type": "code",
   "execution_count": null,
   "metadata": {},
   "outputs": [],
   "source": [
    "import pandas as pd\n",
    "import numpy as np\n",
    "import matplotlib.pyplot as plt\n",
    "import seaborn as sns\n",
    "from sqlalchemy import create_engine\n"
   ]
  },
  {
   "cell_type": "code",
   "execution_count": null,
   "metadata": {},
   "outputs": [],
   "source": [
    "# Configuración de conexión a SQL Server\n",
    "server = 'FROI-PC\\\\SQLEXPRESS'\n",
    "database = 'covid-data'\n",
    "trusted_connection = 'yes'\n",
    "\n",
    "# Especificar el controlador de pyodbc en la cadena de conexión\n",
    "conn_str = f'mssql+pyodbc://{server}/{database}?trusted_connection={trusted_connection}&driver=ODBC+Driver+17+for+SQL+Server'\n",
    "\n",
    "# Crear el motor de SQLAlchemy\n",
    "engine = create_engine(conn_str)\n",
    "\n",
    "# Consulta SQL para extraer datos\n",
    "sql_query_municipality = 'SELECT * FROM MUNICIPALITY'\n",
    "sql_query_department = 'SELECT * FROM DEPARTMENT'\n",
    "sql_query_municipality_deaths = 'SELECT * FROM MUNICIPALITY_DEATHS'\n",
    "sql_query_country_deaths = 'SELECT * FROM COUNTRY_DEATHS'\n",
    "\n",
    "# Ejecutar la consulta y cargar los resultados en DataFrames\n",
    "df_municipality = pd.read_sql(sql_query_municipality, engine)\n",
    "df_department = pd.read_sql(sql_query_department, engine)\n",
    "df_municipality_deaths = pd.read_sql(sql_query_municipality_deaths, engine)\n",
    "df_country_deaths = pd.read_sql(sql_query_country_deaths, engine)"
   ]
  },
  {
   "cell_type": "code",
   "execution_count": null,
   "metadata": {},
   "outputs": [],
   "source": [
    "df_municipality.head(4)\n",
    "df_municipality.tail(4)"
   ]
  },
  {
   "cell_type": "code",
   "execution_count": null,
   "metadata": {},
   "outputs": [],
   "source": [
    "df_department.head(4)\n",
    "df_department.tail(4)"
   ]
  },
  {
   "cell_type": "code",
   "execution_count": null,
   "metadata": {},
   "outputs": [],
   "source": [
    "df_municipality_deaths.head(4)\n",
    "df_municipality_deaths.tail(4)"
   ]
  },
  {
   "cell_type": "code",
   "execution_count": null,
   "metadata": {},
   "outputs": [],
   "source": [
    "df_country_deaths.head(4)\n",
    "df_country_deaths.tail(4)"
   ]
  }
 ],
 "metadata": {
  "kernelspec": {
   "display_name": "venv",
   "language": "python",
   "name": "python3"
  },
  "language_info": {
   "codemirror_mode": {
    "name": "ipython",
    "version": 3
   },
   "file_extension": ".py",
   "mimetype": "text/x-python",
   "name": "python",
   "nbconvert_exporter": "python",
   "pygments_lexer": "ipython3",
   "version": "3.12.1"
  }
 },
 "nbformat": 4,
 "nbformat_minor": 2
}
